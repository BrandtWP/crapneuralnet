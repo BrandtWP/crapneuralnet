{
 "cells": [
  {
   "cell_type": "code",
   "execution_count": 1,
   "metadata": {},
   "outputs": [
    {
     "name": "stderr",
     "output_type": "stream",
     "text": [
      "Using TensorFlow backend.\n"
     ]
    }
   ],
   "source": [
    "import sqlite3\n",
    "import matplotlib.pyplot as plt\n",
    "import numpy as np\n",
    "import time\n",
    "import sys\n",
    "from IPython.display import clear_output\n",
    "from sklearn.preprocessing import MinMaxScaler\n",
    "from keras.models import Sequential\n",
    "from keras.layers import Dense\n",
    "import keras.backend as K\n",
    "from keras import metrics\n",
    "from keras import optimizers\n",
    "from math import *"
   ]
  },
  {
   "cell_type": "code",
   "execution_count": 2,
   "metadata": {},
   "outputs": [],
   "source": [
    "class app:\n",
    "    def __init__(self):\n",
    "        conn = sqlite3.connect('stockData.db')\n",
    "        c = conn.cursor()\n",
    "\n",
    "        self.dataBase = conn.execute('select * from stockData')\n",
    "        self.indices = [description[0] for description in self.dataBase.description][1:]\n",
    "        \n",
    "        c.execute('SELECT COUNT(*) FROM stockdata') \n",
    "        \n",
    "        self.vertical = c.fetchone()[0]\n",
    "        \n",
    "        c.execute('SELECT * FROM stockdata') \n",
    "\n",
    "        self.data = np.zeros((self.vertical, len(self.indices)))\n",
    "        self.size = 0\n",
    "        \n",
    "        self.budget = 10000\n",
    "    \n",
    "        self.gottenData = False\n",
    "    \n",
    "    def getTimestamps(self):\n",
    "        conn = sqlite3.connect('stockData.db')\n",
    "        c = conn.cursor()\n",
    "        \n",
    "        c.execute('SELECT timestamp FROM stockdata')\n",
    "        return c.fetchall()\n",
    "\n",
    "    \n",
    "    def add(self, x):\n",
    "            self.data[self.size] = x[1:]\n",
    "            self.size += 1\n",
    "            \n",
    "    def getData(self):\n",
    "        toolbar_width = 100\n",
    "\n",
    "        for row in self.dataBase:\n",
    "            self.add(row)\n",
    "            if self.size % (self.vertical // 100) == 0:\n",
    "                length = int(self.size // (self.vertical // 100))\n",
    "                remainder = int(100 - length)\n",
    "                clear_output()\n",
    "                sys.stdout.write(\"[\")\n",
    "                sys.stdout.write(\"-\" * length)\n",
    "                sys.stdout.write(\" \" * remainder)\n",
    "                sys.stdout.write(\"]\")\n",
    "                sys.stdout.write(str(length) + \"%\")\n",
    "                sys.stdout.flush()\n",
    "                \n",
    "        sys.stdout.write(\"\\n\")\n",
    "        self.gottenData = True\n",
    "    \n",
    "    def price(self, ticker):\n",
    "        return self.prices[self.indices.index(ticker)]\n",
    "    \n",
    "    def sell(self, ticker, volume=1):\n",
    "        if self.shares[self.indices.index(ticker)] >= volume:\n",
    "            self.fbudget += self.price(ticker)*volume\n",
    "            self.shares[self.indices.index(ticker)] = self.shares[self.indices.index(ticker)] - volume \n",
    "    \n",
    "    def buy(self, ticker, volume=1):\n",
    "        if self.fbudget - self.price(ticker)*volume >= 0:\n",
    "            self.fbudget -= self.price(ticker)*volume\n",
    "            self.shares[self.indices.index(ticker)] = self.shares[self.indices.index(ticker)] + volume \n",
    "    \n",
    "    def trade(self, algorithm, start = 0, detail = 100):\n",
    "        \n",
    "        self.values = {}\n",
    "        \n",
    "        self.shares = [0] * len(self.indices)\n",
    "        \n",
    "        self.fbudget = self.budget\n",
    "        \n",
    "        count = 0\n",
    "        \n",
    "        vertical = len(data[start:])\n",
    "        \n",
    "        print(vertical)\n",
    "        \n",
    "        self.values[\"algorithm\"] = [None] * (vertical//detail)\n",
    "        self.values[\"spy\"] = [None] * (vertical//detail)\n",
    "        \n",
    "        for row in self.data[start:]:\n",
    "            self.prices = row\n",
    "            algorithm()\n",
    "        \n",
    "            if count % (vertical // detail) == 0:\n",
    "                \n",
    "                if count == 0:\n",
    "                    self.ospy = self.price(\"SPY\")\n",
    "                length = int(count // (vertical // detail))\n",
    "                remainder = int(detail - length)\n",
    "                clear_output()\n",
    "                sys.stdout.write(\"[\")\n",
    "                sys.stdout.write(\"-\" * length)\n",
    "                sys.stdout.write(\" \" * remainder)\n",
    "                sys.stdout.write(\"]\")\n",
    "                sys.stdout.write(str(length) + \"%\")\n",
    "                sys.stdout.flush()\n",
    "                self.end(count // detail)\n",
    "                \n",
    "                nth = int(count/(vertical//detail))\n",
    "                \n",
    "                self.values[\"algorithm\"][nth], self.values[\"spy\"][nth] = self.value()\n",
    "            \n",
    "            count += 1 \n",
    "        \n",
    "    \n",
    "    def value(self):\n",
    "        \n",
    "        spy = self.price(\"SPY\")/self.ospy\n",
    "        total = self.fbudget\n",
    "        \n",
    "        for index, value in enumerate(self.shares):\n",
    "            total += value * self.price(self.indices[index])\n",
    "        \n",
    "        total =  total/self.budget\n",
    "        \n",
    "        return total, spy\n",
    "        \n",
    "    \n",
    "    def end(self, num):\n",
    "        plt.ion()\n",
    "        fig = plt.figure()\n",
    "        ax1 = fig.add_subplot(111)\n",
    "        line1, = ax1.plot(self.values[\"algorithm\"][:num], label = \"Algorithm\")\n",
    "        line2, = ax1.plot(self.values[\"spy\"][:num], label = \"S&P 500\")\n",
    "        plt.legend(loc='upper left')\n",
    "        plt.show()"
   ]
  },
  {
   "cell_type": "code",
   "execution_count": 3,
   "metadata": {},
   "outputs": [],
   "source": [
    "trader = app()"
   ]
  },
  {
   "cell_type": "code",
   "execution_count": 4,
   "metadata": {},
   "outputs": [
    {
     "name": "stdout",
     "output_type": "stream",
     "text": [
      "[----------------------------------------------------------------------------------------------------]100%\n"
     ]
    }
   ],
   "source": [
    "trader.getData()\n",
    "\n",
    "data = trader.data"
   ]
  },
  {
   "cell_type": "code",
   "execution_count": 5,
   "metadata": {},
   "outputs": [
    {
     "name": "stdout",
     "output_type": "stream",
     "text": [
      "True\n"
     ]
    }
   ],
   "source": [
    "print(trader.gottenData)"
   ]
  },
  {
   "cell_type": "code",
   "execution_count": 6,
   "metadata": {},
   "outputs": [],
   "source": [
    "n = trader.data.shape[0]\n",
    "p = trader.data.shape[1]\n",
    "\n",
    "# Training and test data\n",
    "train_start = 0\n",
    "train_end = int(np.floor(0.8*n))\n",
    "test_start = train_end + 1\n",
    "test_end = n\n",
    "data_train = trader.data[np.arange(train_start, train_end), :]\n",
    "data_test = trader.data[np.arange(test_start, test_end), :]\n",
    "\n",
    "y_test = np.array([[log(data_test[i+1][k]/data_test[i][k]) for k in range(len(data_test[i+1]))] for i in range(len(data_test[1:]))])\n",
    "\n",
    "y_train = np.array([[log(data_train[i+1][k]/data_train[i][k]) for k in range(len(data_train[i+1]))] for i in range(len(data_train[1:]))])\n"
   ]
  },
  {
   "cell_type": "code",
   "execution_count": null,
   "metadata": {},
   "outputs": [],
   "source": [
    "print(y_test)"
   ]
  },
  {
   "cell_type": "code",
   "execution_count": 16,
   "metadata": {},
   "outputs": [],
   "source": [
    "xscaler = MinMaxScaler()\n",
    "xscaler.fit(np.vstack((data_test, data_train)))\n",
    "X_train = xscaler.transform(data_train)\n",
    "X_test = xscaler.transform(data_test)\n",
    "\n",
    "yscaler = MinMaxScaler()\n",
    "yscaler.fit(np.vstack((y_test, y_train)))\n",
    "y_train = yscaler.transform(y_train)\n",
    "y_test = yscaler.transform(y_test)"
   ]
  },
  {
   "cell_type": "code",
   "execution_count": 17,
   "metadata": {},
   "outputs": [],
   "source": [
    "def makeBatches(batchSize):\n",
    "    global y_train, X_train\n",
    "    \n",
    "    shuffle_indices = np.random.permutation(np.arange(len(y_train)))\n",
    "    \n",
    "    X_train = X_train[shuffle_indices]\n",
    "    y_train = y_train[shuffle_indices]\n",
    "    \n",
    "    X_batches = np.array_split(X_train, len(X_train) // batchSize)\n",
    "    y_batches = np.array_split(y_train, len(y_train) // batchSize)\n",
    "    \n",
    "    return X_batches, y_batches"
   ]
  },
  {
   "cell_type": "code",
   "execution_count": 18,
   "metadata": {},
   "outputs": [],
   "source": [
    "n_stocks = X_train.shape[1]\n",
    "\n",
    "model = Sequential()\n",
    "model.add(Dense(units=2*n_stocks + 1, activation='relu', input_dim=n_stocks))\n",
    "model.add(Dense(units=2*n_stocks+1, activation='relu'))\n",
    "model.add(Dense(units=n_stocks))\n",
    "\n",
    "optimizer = optimizers.adam()\n",
    "\n",
    "\n",
    "model.compile(loss='mean_squared_error', optimizer=optimizer)"
   ]
  },
  {
   "cell_type": "code",
   "execution_count": null,
   "metadata": {},
   "outputs": [],
   "source": [
    "nepochs = 2\n",
    "batchSize = 512\n",
    "batch_losses = []\n",
    "\n",
    "for i in range(nepochs):\n",
    "    X_batches, y_batches = makeBatches(batchSize)\n",
    "    batch_losses += [model.train_on_batch(X_batches[i], y_batches[i]) for i in range(len(X_batches))]\n",
    "    print(i)\n",
    "\n",
    "plt.plot(batch_losses)\n",
    "plt.show()"
   ]
  },
  {
   "cell_type": "code",
   "execution_count": null,
   "metadata": {},
   "outputs": [],
   "source": [
    "model.save_weights(\"model.h5\")"
   ]
  },
  {
   "cell_type": "code",
   "execution_count": 19,
   "metadata": {},
   "outputs": [],
   "source": [
    "model.load_weights(\"model.h5\")"
   ]
  },
  {
   "cell_type": "code",
   "execution_count": 91,
   "metadata": {},
   "outputs": [
    {
     "name": "stdout",
     "output_type": "stream",
     "text": [
      "[----------------------------------------------------------------------------------------------------]100%"
     ]
    },
    {
     "data": {
      "image/png": "[encoded data removed]",
      "text/plain": [
       "<Figure size 432x288 with 1 Axes>"
      ]
     },
     "metadata": {},
     "output_type": "display_data"
    },
    {
     "name": "stdout",
     "output_type": "stream",
     "text": [
      "531.7941257953644\n"
     ]
    }
   ],
   "source": [
    "trader = app()\n",
    "\n",
    "trader.budget = 10000\n",
    "trader.data = data\n",
    "\n",
    "print(type(trader.data))\n",
    "\n",
    "def algorithm():\n",
    "    \n",
    "    X = xscaler.transform(np.array(trader.prices).reshape(1, -1))\n",
    "    pred = yscaler.inverse_transform(model.predict(X))[0]\n",
    "    \n",
    "    indices = [k for k,v in enumerate(trader.shares) if v > 0]\n",
    "\n",
    "    stockPreds = [pred[k] for k in indices]\n",
    "\n",
    "    for k,v in enumerate(stockPreds):\n",
    "        if k < 0:\n",
    "            trader.sell(trader.indices[indices[k]], volume = trader.shares[indices[k]])\n",
    "    \n",
    "    if max(pred) > 0:\n",
    "        trader.buy(trader.indices[np.where(pred == max(pred))[0][0]], volume = 100)\n",
    "\n",
    "start = time.time()\n",
    "\n",
    "trader.trade(algorithm, start = 0)\n",
    "\n",
    "end = time.time()\n",
    "\n",
    "print(end-start)"
   ]
  },
  {
   "cell_type": "code",
   "execution_count": null,
   "metadata": {},
   "outputs": [],
   "source": [
    "print(trader.getTimestamps()[int(np.floor(0.8*n))])"
   ]
  },
  {
   "cell_type": "code",
   "execution_count": null,
   "metadata": {},
   "outputs": [],
   "source": [
    "def graph(arr, graph = \"test\"):\n",
    "    arr = arr.reshape(1, -1)[0]\n",
    "    if graph == \"test\":\n",
    "        plot = []\n",
    "        temp = open_test\n",
    "        \n",
    "        for i in arr:\n",
    "            temp = temp*i\n",
    "            plot.append(temp)\n",
    "    \n",
    "        return plot\n",
    "    \n",
    "    if graph == \"train\":\n",
    "        plot = []\n",
    "        temp = open_train\n",
    "        \n",
    "        for i in arr:\n",
    "            temp = temp*i\n",
    "            plot.append(temp)\n",
    "        \n",
    "        return plot\n",
    "        \n",
    "def MAPD(F, A):\n",
    "    temp = 0\n",
    "    for i in range(len(A)):\n",
    "        temp += abs((A[i]-F[i][0])/A[i])\n",
    "    MAPD = temp/len(A)\n",
    "    \n",
    "    return MAPD\n",
    "    "
   ]
  }
 ],
 "metadata": {
  "kernelspec": {
   "display_name": "Python 3",
   "language": "python",
   "name": "python3"
  },
  "language_info": {
   "codemirror_mode": {
    "name": "ipython",
    "version": 3
   },
   "file_extension": ".py",
   "mimetype": "text/x-python",
   "name": "python",
   "nbconvert_exporter": "python",
   "pygments_lexer": "ipython3",
   "version": "3.7.4"
  }
 },
 "nbformat": 4,
 "nbformat_minor": 2
}
